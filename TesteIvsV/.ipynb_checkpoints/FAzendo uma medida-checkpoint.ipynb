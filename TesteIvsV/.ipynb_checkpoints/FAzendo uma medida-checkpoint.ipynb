{
 "cells": [
  {
   "cell_type": "code",
   "execution_count": 8,
   "id": "54a2f8af",
   "metadata": {},
   "outputs": [],
   "source": [
    "from pymeasure.instruments.keithley import Keithley2400\n",
    "from pymeasure.adapters import PrologixAdapter"
   ]
  },
  {
   "cell_type": "code",
   "execution_count": 7,
   "id": "1bdf828c",
   "metadata": {},
   "outputs": [
    {
     "ename": "ValueError",
     "evalue": "Could not locate a VISA implementation. Install either the IVI binary or pyvisa-py.",
     "output_type": "error",
     "traceback": [
      "\u001b[0;31m---------------------------------------------------------------------------\u001b[0m",
      "\u001b[0;31mValueError\u001b[0m                                Traceback (most recent call last)",
      "\u001b[0;32m<ipython-input-7-bfdc288a094d>\u001b[0m in \u001b[0;36m<module>\u001b[0;34m\u001b[0m\n\u001b[0;32m----> 1\u001b[0;31m \u001b[0madapter\u001b[0m \u001b[0;34m=\u001b[0m \u001b[0mVISAAdapter\u001b[0m\u001b[0;34m(\u001b[0m\u001b[0;34m\"GPIB::4\"\u001b[0m\u001b[0;34m)\u001b[0m\u001b[0;34m\u001b[0m\u001b[0;34m\u001b[0m\u001b[0m\n\u001b[0m\u001b[1;32m      2\u001b[0m \u001b[0msourcemeter\u001b[0m \u001b[0;34m=\u001b[0m \u001b[0mKeithely2400\u001b[0m\u001b[0;34m(\u001b[0m\u001b[0madapter\u001b[0m\u001b[0;34m)\u001b[0m\u001b[0;34m\u001b[0m\u001b[0;34m\u001b[0m\u001b[0m\n",
      "\u001b[0;32m~/anaconda3/lib/python3.8/site-packages/pymeasure/adapters/visa.py\u001b[0m in \u001b[0;36m__init__\u001b[0;34m(self, resource_name, visa_library, preprocess_reply, **kwargs)\u001b[0m\n\u001b[1;32m     57\u001b[0m             \u001b[0mresource_name\u001b[0m \u001b[0;34m=\u001b[0m \u001b[0;34m\"GPIB0::%d::INSTR\"\u001b[0m \u001b[0;34m%\u001b[0m \u001b[0mresource_name\u001b[0m\u001b[0;34m\u001b[0m\u001b[0;34m\u001b[0m\u001b[0m\n\u001b[1;32m     58\u001b[0m         \u001b[0mself\u001b[0m\u001b[0;34m.\u001b[0m\u001b[0mresource_name\u001b[0m \u001b[0;34m=\u001b[0m \u001b[0mresource_name\u001b[0m\u001b[0;34m\u001b[0m\u001b[0;34m\u001b[0m\u001b[0m\n\u001b[0;32m---> 59\u001b[0;31m         \u001b[0mself\u001b[0m\u001b[0;34m.\u001b[0m\u001b[0mmanager\u001b[0m \u001b[0;34m=\u001b[0m \u001b[0mpyvisa\u001b[0m\u001b[0;34m.\u001b[0m\u001b[0mResourceManager\u001b[0m\u001b[0;34m(\u001b[0m\u001b[0mvisa_library\u001b[0m\u001b[0;34m)\u001b[0m\u001b[0;34m\u001b[0m\u001b[0;34m\u001b[0m\u001b[0m\n\u001b[0m\u001b[1;32m     60\u001b[0m         safeKeywords = [\n\u001b[1;32m     61\u001b[0m             \u001b[0;34m'resource_name'\u001b[0m\u001b[0;34m,\u001b[0m \u001b[0;34m'timeout'\u001b[0m\u001b[0;34m,\u001b[0m \u001b[0;34m'chunk_size'\u001b[0m\u001b[0;34m,\u001b[0m \u001b[0;34m'lock'\u001b[0m\u001b[0;34m,\u001b[0m \u001b[0;34m'query_delay'\u001b[0m\u001b[0;34m,\u001b[0m \u001b[0;34m'send_end'\u001b[0m\u001b[0;34m,\u001b[0m\u001b[0;34m\u001b[0m\u001b[0;34m\u001b[0m\u001b[0m\n",
      "\u001b[0;32m~/anaconda3/lib/python3.8/site-packages/pyvisa/highlevel.py\u001b[0m in \u001b[0;36m__new__\u001b[0;34m(cls, visa_library)\u001b[0m\n\u001b[1;32m   3013\u001b[0m         \"\"\"\n\u001b[1;32m   3014\u001b[0m         \u001b[0;32mif\u001b[0m \u001b[0;32mnot\u001b[0m \u001b[0misinstance\u001b[0m\u001b[0;34m(\u001b[0m\u001b[0mvisa_library\u001b[0m\u001b[0;34m,\u001b[0m \u001b[0mVisaLibraryBase\u001b[0m\u001b[0;34m)\u001b[0m\u001b[0;34m:\u001b[0m\u001b[0;34m\u001b[0m\u001b[0;34m\u001b[0m\u001b[0m\n\u001b[0;32m-> 3015\u001b[0;31m             \u001b[0mvisa_library\u001b[0m \u001b[0;34m=\u001b[0m \u001b[0mopen_visa_library\u001b[0m\u001b[0;34m(\u001b[0m\u001b[0mvisa_library\u001b[0m\u001b[0;34m)\u001b[0m\u001b[0;34m\u001b[0m\u001b[0;34m\u001b[0m\u001b[0m\n\u001b[0m\u001b[1;32m   3016\u001b[0m \u001b[0;34m\u001b[0m\u001b[0m\n\u001b[1;32m   3017\u001b[0m         \u001b[0;32mif\u001b[0m \u001b[0mvisa_library\u001b[0m\u001b[0;34m.\u001b[0m\u001b[0mresource_manager\u001b[0m \u001b[0;32mis\u001b[0m \u001b[0;32mnot\u001b[0m \u001b[0;32mNone\u001b[0m\u001b[0;34m:\u001b[0m\u001b[0;34m\u001b[0m\u001b[0;34m\u001b[0m\u001b[0m\n",
      "\u001b[0;32m~/anaconda3/lib/python3.8/site-packages/pyvisa/highlevel.py\u001b[0m in \u001b[0;36mopen_visa_library\u001b[0;34m(specification)\u001b[0m\n\u001b[1;32m   2922\u001b[0m             \u001b[0mwrapper\u001b[0m \u001b[0;34m=\u001b[0m \u001b[0;34m\"ivi\"\u001b[0m\u001b[0;34m\u001b[0m\u001b[0;34m\u001b[0m\u001b[0m\n\u001b[1;32m   2923\u001b[0m         \u001b[0;32melse\u001b[0m\u001b[0;34m:\u001b[0m\u001b[0;34m\u001b[0m\u001b[0;34m\u001b[0m\u001b[0m\n\u001b[0;32m-> 2924\u001b[0;31m             \u001b[0mwrapper\u001b[0m \u001b[0;34m=\u001b[0m \u001b[0m_get_default_wrapper\u001b[0m\u001b[0;34m(\u001b[0m\u001b[0;34m)\u001b[0m\u001b[0;34m\u001b[0m\u001b[0;34m\u001b[0m\u001b[0m\n\u001b[0m\u001b[1;32m   2925\u001b[0m \u001b[0;34m\u001b[0m\u001b[0m\n\u001b[1;32m   2926\u001b[0m     \u001b[0mcls\u001b[0m \u001b[0;34m=\u001b[0m \u001b[0mget_wrapper_class\u001b[0m\u001b[0;34m(\u001b[0m\u001b[0mwrapper\u001b[0m\u001b[0;34m)\u001b[0m\u001b[0;34m\u001b[0m\u001b[0;34m\u001b[0m\u001b[0m\n",
      "\u001b[0;32m~/anaconda3/lib/python3.8/site-packages/pyvisa/highlevel.py\u001b[0m in \u001b[0;36m_get_default_wrapper\u001b[0;34m()\u001b[0m\n\u001b[1;32m   2881\u001b[0m     \u001b[0;32mexcept\u001b[0m \u001b[0mValueError\u001b[0m\u001b[0;34m:\u001b[0m\u001b[0;34m\u001b[0m\u001b[0;34m\u001b[0m\u001b[0m\n\u001b[1;32m   2882\u001b[0m         \u001b[0mlogger\u001b[0m\u001b[0;34m.\u001b[0m\u001b[0mdebug\u001b[0m\u001b[0;34m(\u001b[0m\u001b[0;34m\"Did not find pyvisa-py package\"\u001b[0m\u001b[0;34m)\u001b[0m\u001b[0;34m\u001b[0m\u001b[0;34m\u001b[0m\u001b[0m\n\u001b[0;32m-> 2883\u001b[0;31m     raise ValueError(\n\u001b[0m\u001b[1;32m   2884\u001b[0m         \u001b[0;34m\"Could not locate a VISA implementation. Install either the IVI binary or pyvisa-py.\"\u001b[0m\u001b[0;34m\u001b[0m\u001b[0;34m\u001b[0m\u001b[0m\n\u001b[1;32m   2885\u001b[0m     )\n",
      "\u001b[0;31mValueError\u001b[0m: Could not locate a VISA implementation. Install either the IVI binary or pyvisa-py."
     ]
    }
   ],
   "source": [
    "adapter = PrologixAdapter('/dev/ttyUSB0')\n",
    "sourcemeter = Keithley2400(adapter.gpib(4))\n"
   ]
  },
  {
   "cell_type": "code",
   "execution_count": 4,
   "id": "7d4a32ef",
   "metadata": {},
   "outputs": [
    {
     "ename": "ValueError",
     "evalue": "Could not locate a VISA implementation. Install either the IVI binary or pyvisa-py.",
     "output_type": "error",
     "traceback": [
      "\u001b[0;31m---------------------------------------------------------------------------\u001b[0m",
      "\u001b[0;31mValueError\u001b[0m                                Traceback (most recent call last)",
      "\u001b[0;32m<ipython-input-4-44cea0c16ffc>\u001b[0m in \u001b[0;36m<module>\u001b[0;34m\u001b[0m\n\u001b[0;32m----> 1\u001b[0;31m \u001b[0msourcemeter\u001b[0m \u001b[0;34m=\u001b[0m \u001b[0mKeithley2400\u001b[0m\u001b[0;34m(\u001b[0m\u001b[0;34m\"GPIB::4\"\u001b[0m\u001b[0;34m)\u001b[0m\u001b[0;34m\u001b[0m\u001b[0;34m\u001b[0m\u001b[0m\n\u001b[0m",
      "\u001b[0;32m~/anaconda3/lib/python3.8/site-packages/pymeasure/instruments/keithley/keithley2400.py\u001b[0m in \u001b[0;36m__init__\u001b[0;34m(self, adapter, **kwargs)\u001b[0m\n\u001b[1;32m    357\u001b[0m \u001b[0;34m\u001b[0m\u001b[0m\n\u001b[1;32m    358\u001b[0m     \u001b[0;32mdef\u001b[0m \u001b[0m__init__\u001b[0m\u001b[0;34m(\u001b[0m\u001b[0mself\u001b[0m\u001b[0;34m,\u001b[0m \u001b[0madapter\u001b[0m\u001b[0;34m,\u001b[0m \u001b[0;34m**\u001b[0m\u001b[0mkwargs\u001b[0m\u001b[0;34m)\u001b[0m\u001b[0;34m:\u001b[0m\u001b[0;34m\u001b[0m\u001b[0;34m\u001b[0m\u001b[0m\n\u001b[0;32m--> 359\u001b[0;31m         super(Keithley2400, self).__init__(\n\u001b[0m\u001b[1;32m    360\u001b[0m             \u001b[0madapter\u001b[0m\u001b[0;34m,\u001b[0m \u001b[0;34m\"Keithley 2400 SourceMeter\"\u001b[0m\u001b[0;34m,\u001b[0m \u001b[0;34m**\u001b[0m\u001b[0mkwargs\u001b[0m\u001b[0;34m\u001b[0m\u001b[0;34m\u001b[0m\u001b[0m\n\u001b[1;32m    361\u001b[0m         )\n",
      "\u001b[0;32m~/anaconda3/lib/python3.8/site-packages/pymeasure/instruments/instrument.py\u001b[0m in \u001b[0;36m__init__\u001b[0;34m(self, adapter, name, includeSCPI, **kwargs)\u001b[0m\n\u001b[1;32m     50\u001b[0m         \u001b[0;32mtry\u001b[0m\u001b[0;34m:\u001b[0m\u001b[0;34m\u001b[0m\u001b[0;34m\u001b[0m\u001b[0m\n\u001b[1;32m     51\u001b[0m             \u001b[0;32mif\u001b[0m \u001b[0misinstance\u001b[0m\u001b[0;34m(\u001b[0m\u001b[0madapter\u001b[0m\u001b[0;34m,\u001b[0m \u001b[0;34m(\u001b[0m\u001b[0mint\u001b[0m\u001b[0;34m,\u001b[0m \u001b[0mstr\u001b[0m\u001b[0;34m)\u001b[0m\u001b[0;34m)\u001b[0m\u001b[0;34m:\u001b[0m\u001b[0;34m\u001b[0m\u001b[0;34m\u001b[0m\u001b[0m\n\u001b[0;32m---> 52\u001b[0;31m                 \u001b[0madapter\u001b[0m \u001b[0;34m=\u001b[0m \u001b[0mVISAAdapter\u001b[0m\u001b[0;34m(\u001b[0m\u001b[0madapter\u001b[0m\u001b[0;34m,\u001b[0m \u001b[0;34m**\u001b[0m\u001b[0mkwargs\u001b[0m\u001b[0;34m)\u001b[0m\u001b[0;34m\u001b[0m\u001b[0;34m\u001b[0m\u001b[0m\n\u001b[0m\u001b[1;32m     53\u001b[0m         \u001b[0;32mexcept\u001b[0m \u001b[0mImportError\u001b[0m\u001b[0;34m:\u001b[0m\u001b[0;34m\u001b[0m\u001b[0;34m\u001b[0m\u001b[0m\n\u001b[1;32m     54\u001b[0m             raise Exception(\"Invalid Adapter provided for Instrument since \"\n",
      "\u001b[0;32m~/anaconda3/lib/python3.8/site-packages/pymeasure/adapters/visa.py\u001b[0m in \u001b[0;36m__init__\u001b[0;34m(self, resource_name, visa_library, preprocess_reply, **kwargs)\u001b[0m\n\u001b[1;32m     57\u001b[0m             \u001b[0mresource_name\u001b[0m \u001b[0;34m=\u001b[0m \u001b[0;34m\"GPIB0::%d::INSTR\"\u001b[0m \u001b[0;34m%\u001b[0m \u001b[0mresource_name\u001b[0m\u001b[0;34m\u001b[0m\u001b[0;34m\u001b[0m\u001b[0m\n\u001b[1;32m     58\u001b[0m         \u001b[0mself\u001b[0m\u001b[0;34m.\u001b[0m\u001b[0mresource_name\u001b[0m \u001b[0;34m=\u001b[0m \u001b[0mresource_name\u001b[0m\u001b[0;34m\u001b[0m\u001b[0;34m\u001b[0m\u001b[0m\n\u001b[0;32m---> 59\u001b[0;31m         \u001b[0mself\u001b[0m\u001b[0;34m.\u001b[0m\u001b[0mmanager\u001b[0m \u001b[0;34m=\u001b[0m \u001b[0mpyvisa\u001b[0m\u001b[0;34m.\u001b[0m\u001b[0mResourceManager\u001b[0m\u001b[0;34m(\u001b[0m\u001b[0mvisa_library\u001b[0m\u001b[0;34m)\u001b[0m\u001b[0;34m\u001b[0m\u001b[0;34m\u001b[0m\u001b[0m\n\u001b[0m\u001b[1;32m     60\u001b[0m         safeKeywords = [\n\u001b[1;32m     61\u001b[0m             \u001b[0;34m'resource_name'\u001b[0m\u001b[0;34m,\u001b[0m \u001b[0;34m'timeout'\u001b[0m\u001b[0;34m,\u001b[0m \u001b[0;34m'chunk_size'\u001b[0m\u001b[0;34m,\u001b[0m \u001b[0;34m'lock'\u001b[0m\u001b[0;34m,\u001b[0m \u001b[0;34m'query_delay'\u001b[0m\u001b[0;34m,\u001b[0m \u001b[0;34m'send_end'\u001b[0m\u001b[0;34m,\u001b[0m\u001b[0;34m\u001b[0m\u001b[0;34m\u001b[0m\u001b[0m\n",
      "\u001b[0;32m~/anaconda3/lib/python3.8/site-packages/pyvisa/highlevel.py\u001b[0m in \u001b[0;36m__new__\u001b[0;34m(cls, visa_library)\u001b[0m\n\u001b[1;32m   3013\u001b[0m         \"\"\"\n\u001b[1;32m   3014\u001b[0m         \u001b[0;32mif\u001b[0m \u001b[0;32mnot\u001b[0m \u001b[0misinstance\u001b[0m\u001b[0;34m(\u001b[0m\u001b[0mvisa_library\u001b[0m\u001b[0;34m,\u001b[0m \u001b[0mVisaLibraryBase\u001b[0m\u001b[0;34m)\u001b[0m\u001b[0;34m:\u001b[0m\u001b[0;34m\u001b[0m\u001b[0;34m\u001b[0m\u001b[0m\n\u001b[0;32m-> 3015\u001b[0;31m             \u001b[0mvisa_library\u001b[0m \u001b[0;34m=\u001b[0m \u001b[0mopen_visa_library\u001b[0m\u001b[0;34m(\u001b[0m\u001b[0mvisa_library\u001b[0m\u001b[0;34m)\u001b[0m\u001b[0;34m\u001b[0m\u001b[0;34m\u001b[0m\u001b[0m\n\u001b[0m\u001b[1;32m   3016\u001b[0m \u001b[0;34m\u001b[0m\u001b[0m\n\u001b[1;32m   3017\u001b[0m         \u001b[0;32mif\u001b[0m \u001b[0mvisa_library\u001b[0m\u001b[0;34m.\u001b[0m\u001b[0mresource_manager\u001b[0m \u001b[0;32mis\u001b[0m \u001b[0;32mnot\u001b[0m \u001b[0;32mNone\u001b[0m\u001b[0;34m:\u001b[0m\u001b[0;34m\u001b[0m\u001b[0;34m\u001b[0m\u001b[0m\n",
      "\u001b[0;32m~/anaconda3/lib/python3.8/site-packages/pyvisa/highlevel.py\u001b[0m in \u001b[0;36mopen_visa_library\u001b[0;34m(specification)\u001b[0m\n\u001b[1;32m   2922\u001b[0m             \u001b[0mwrapper\u001b[0m \u001b[0;34m=\u001b[0m \u001b[0;34m\"ivi\"\u001b[0m\u001b[0;34m\u001b[0m\u001b[0;34m\u001b[0m\u001b[0m\n\u001b[1;32m   2923\u001b[0m         \u001b[0;32melse\u001b[0m\u001b[0;34m:\u001b[0m\u001b[0;34m\u001b[0m\u001b[0;34m\u001b[0m\u001b[0m\n\u001b[0;32m-> 2924\u001b[0;31m             \u001b[0mwrapper\u001b[0m \u001b[0;34m=\u001b[0m \u001b[0m_get_default_wrapper\u001b[0m\u001b[0;34m(\u001b[0m\u001b[0;34m)\u001b[0m\u001b[0;34m\u001b[0m\u001b[0;34m\u001b[0m\u001b[0m\n\u001b[0m\u001b[1;32m   2925\u001b[0m \u001b[0;34m\u001b[0m\u001b[0m\n\u001b[1;32m   2926\u001b[0m     \u001b[0mcls\u001b[0m \u001b[0;34m=\u001b[0m \u001b[0mget_wrapper_class\u001b[0m\u001b[0;34m(\u001b[0m\u001b[0mwrapper\u001b[0m\u001b[0;34m)\u001b[0m\u001b[0;34m\u001b[0m\u001b[0;34m\u001b[0m\u001b[0m\n",
      "\u001b[0;32m~/anaconda3/lib/python3.8/site-packages/pyvisa/highlevel.py\u001b[0m in \u001b[0;36m_get_default_wrapper\u001b[0;34m()\u001b[0m\n\u001b[1;32m   2881\u001b[0m     \u001b[0;32mexcept\u001b[0m \u001b[0mValueError\u001b[0m\u001b[0;34m:\u001b[0m\u001b[0;34m\u001b[0m\u001b[0;34m\u001b[0m\u001b[0m\n\u001b[1;32m   2882\u001b[0m         \u001b[0mlogger\u001b[0m\u001b[0;34m.\u001b[0m\u001b[0mdebug\u001b[0m\u001b[0;34m(\u001b[0m\u001b[0;34m\"Did not find pyvisa-py package\"\u001b[0m\u001b[0;34m)\u001b[0m\u001b[0;34m\u001b[0m\u001b[0;34m\u001b[0m\u001b[0m\n\u001b[0;32m-> 2883\u001b[0;31m     raise ValueError(\n\u001b[0m\u001b[1;32m   2884\u001b[0m         \u001b[0;34m\"Could not locate a VISA implementation. Install either the IVI binary or pyvisa-py.\"\u001b[0m\u001b[0;34m\u001b[0m\u001b[0;34m\u001b[0m\u001b[0m\n\u001b[1;32m   2885\u001b[0m     )\n",
      "\u001b[0;31mValueError\u001b[0m: Could not locate a VISA implementation. Install either the IVI binary or pyvisa-py."
     ]
    }
   ],
   "source": [
    "sourcemeter = Keithley2400(\"GPIB::4\")"
   ]
  },
  {
   "cell_type": "code",
   "execution_count": 5,
   "id": "745b686a",
   "metadata": {},
   "outputs": [
    {
     "ename": "NameError",
     "evalue": "name 'sourcemeter' is not defined",
     "output_type": "error",
     "traceback": [
      "\u001b[0;31m---------------------------------------------------------------------------\u001b[0m",
      "\u001b[0;31mNameError\u001b[0m                                 Traceback (most recent call last)",
      "\u001b[0;32m<ipython-input-5-82badea966d2>\u001b[0m in \u001b[0;36m<module>\u001b[0;34m\u001b[0m\n\u001b[0;32m----> 1\u001b[0;31m \u001b[0msourcemeter\u001b[0m\u001b[0;34m.\u001b[0m\u001b[0mid\u001b[0m\u001b[0;34m\u001b[0m\u001b[0;34m\u001b[0m\u001b[0m\n\u001b[0m",
      "\u001b[0;31mNameError\u001b[0m: name 'sourcemeter' is not defined"
     ]
    }
   ],
   "source": [
    "sourcemeter.id"
   ]
  }
 ],
 "metadata": {
  "kernelspec": {
   "display_name": "Python 3",
   "language": "python",
   "name": "python3"
  },
  "language_info": {
   "codemirror_mode": {
    "name": "ipython",
    "version": 3
   },
   "file_extension": ".py",
   "mimetype": "text/x-python",
   "name": "python",
   "nbconvert_exporter": "python",
   "pygments_lexer": "ipython3",
   "version": "3.8.8"
  }
 },
 "nbformat": 4,
 "nbformat_minor": 5
}
