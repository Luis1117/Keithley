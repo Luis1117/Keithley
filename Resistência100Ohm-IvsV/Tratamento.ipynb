{
 "cells": [
  {
   "cell_type": "code",
   "execution_count": 1,
   "id": "33679f0b",
   "metadata": {},
   "outputs": [],
   "source": [
    "import numpy as np\n",
    "import matplotlib.pyplot as plt\n",
    "import glob"
   ]
  },
  {
   "cell_type": "code",
   "execution_count": 2,
   "id": "641f1308",
   "metadata": {
    "scrolled": true
   },
   "outputs": [
    {
     "data": {
      "text/plain": [
       "['./130K_IvsV_resistencia.txt',\n",
       " './200K_IvsV_resistencia.txt',\n",
       " './230K_IvsV_resistencia.txt',\n",
       " './260K_IvsV_resistencia.txt',\n",
       " './150K_IvsV_resistencia.txt',\n",
       " './270K_IvsV_resistencia.txt',\n",
       " './120K_IvsV_resistencia.txt',\n",
       " './290K_IvsV_resistencia.txt',\n",
       " './92K_IvsV_resistencia.txt',\n",
       " './300K_IvsV_resistencia.txt',\n",
       " './110K_IvsV_resistencia.txt',\n",
       " './220K_IvsV_resistencia.txt',\n",
       " './190K_IvsV_resistencia.txt',\n",
       " './280K_IvsV_resistencia.txt',\n",
       " './140K_IvsV_resistencia.txt',\n",
       " './210K_IvsV_resistencia.txt',\n",
       " './160K_IvsV_resistencia.txt',\n",
       " './180K_IvsV_resistencia.txt',\n",
       " './240K_IvsV_resistencia.txt',\n",
       " './170K_IvsV_resistencia.txt',\n",
       " './250K_IvsV_resistencia.txt']"
      ]
     },
     "execution_count": 2,
     "metadata": {},
     "output_type": "execute_result"
    }
   ],
   "source": [
    "a = glob.glob('./*.txt')\n",
    "a"
   ]
  },
  {
   "cell_type": "code",
   "execution_count": null,
   "id": "5aa7e7a4",
   "metadata": {},
   "outputs": [],
   "source": []
  },
  {
   "cell_type": "code",
   "execution_count": 3,
   "id": "0fc0129f",
   "metadata": {},
   "outputs": [
    {
     "data": {
      "text/plain": [
       "array([-5.000000e+00, -3.999947e-02,  9.910000e+37, ...,  9.910000e+37,\n",
       "        7.282832e+03,  2.151600e+04])"
      ]
     },
     "execution_count": 3,
     "metadata": {},
     "output_type": "execute_result"
    }
   ],
   "source": [
    "s = np.loadtxt(a[19], delimiter=',')\n",
    "s"
   ]
  },
  {
   "cell_type": "code",
   "execution_count": 4,
   "id": "e350b669",
   "metadata": {
    "scrolled": true
   },
   "outputs": [
    {
     "data": {
      "text/plain": [
       "[(107.43210682874974, 0.004316723603897812, './130K_IvsV_resistencia.txt'),\n",
       " (106.65053934481459, 0.003323321937253235, './200K_IvsV_resistencia.txt'),\n",
       " (106.36317130271786, 0.003176154242324586, './230K_IvsV_resistencia.txt'),\n",
       " (106.13249306257795, 0.0031120623460333383, './260K_IvsV_resistencia.txt'),\n",
       " (107.21265500517647, 0.0037317696614017426, './150K_IvsV_resistencia.txt'),\n",
       " (106.02505895155366, 0.003076669976622249, './270K_IvsV_resistencia.txt'),\n",
       " (107.65651068736678, 0.004257864657111043, './120K_IvsV_resistencia.txt'),\n",
       " (105.84856802721274, 0.003022391446354412, './290K_IvsV_resistencia.txt'),\n",
       " (108.04746384988634, 0.004885730808063531, './92K_IvsV_resistencia.txt'),\n",
       " (105.72421951121524, 0.0030585074553213672, './300K_IvsV_resistencia.txt'),\n",
       " (107.86673130780568, 0.004344810432267688, './110K_IvsV_resistencia.txt'),\n",
       " (106.45358355955985, 0.0032338530709837324, './220K_IvsV_resistencia.txt'),\n",
       " (106.6928399257916, 0.0034292765141711997, './190K_IvsV_resistencia.txt'),\n",
       " (105.93356413294302, 0.0030903658213142504, './280K_IvsV_resistencia.txt'),\n",
       " (107.36261658589825, 0.0038528201731939057, './140K_IvsV_resistencia.txt'),\n",
       " (106.54074671936615, 0.0032630555323132993, './210K_IvsV_resistencia.txt'),\n",
       " (107.08739048036949, 0.0036287390923892987, './160K_IvsV_resistencia.txt'),\n",
       " (106.85517080606857, 0.003482685137685438, './180K_IvsV_resistencia.txt'),\n",
       " (106.26692086747434, 0.003134563324898405, './240K_IvsV_resistencia.txt'),\n",
       " (106.96792714037097, 0.0035220897350484665, './170K_IvsV_resistencia.txt'),\n",
       " (106.1586970514324, 0.0030863432495965622, './250K_IvsV_resistencia.txt')]"
      ]
     },
     "execution_count": 4,
     "metadata": {},
     "output_type": "execute_result"
    }
   ],
   "source": [
    "m = []\n",
    "for i in range(0, 21):\n",
    "    b = np.loadtxt(a[i], delimiter=',')\n",
    "    c = np.reshape(b, (501, 5))\n",
    "    IvsV = np.polyfit(c[150:350, 1], c[150:350, 0], 1, cov=True)\n",
    "    ang = IvsV[0][0], np.sqrt(IvsV[1][0,0]), a[i]\n",
    "    \n",
    "    m.append(ang)\n",
    "\n",
    "m"
   ]
  },
  {
   "cell_type": "code",
   "execution_count": 5,
   "id": "ae36c3b8",
   "metadata": {},
   "outputs": [
    {
     "data": {
      "text/plain": [
       "array([['107.43210682874974', '0.004316723603897812', '130'],\n",
       "       ['106.65053934481459', '0.003323321937253235', '200'],\n",
       "       ['106.36317130271786', '0.003176154242324586', '230'],\n",
       "       ['106.13249306257795', '0.0031120623460333383', '260'],\n",
       "       ['107.21265500517647', '0.0037317696614017426', '150'],\n",
       "       ['106.02505895155366', '0.003076669976622249', '270'],\n",
       "       ['107.65651068736678', '0.004257864657111043', '120'],\n",
       "       ['105.84856802721274', '0.003022391446354412', '290'],\n",
       "       ['108.04746384988634', '0.004885730808063531', '92'],\n",
       "       ['105.72421951121524', '0.0030585074553213672', '300'],\n",
       "       ['107.86673130780568', '0.004344810432267688', '110'],\n",
       "       ['106.45358355955985', '0.0032338530709837324', '220'],\n",
       "       ['106.6928399257916', '0.0034292765141711997', '190'],\n",
       "       ['105.93356413294302', '0.0030903658213142504', '280'],\n",
       "       ['107.36261658589825', '0.0038528201731939057', '140'],\n",
       "       ['106.54074671936615', '0.0032630555323132993', '210'],\n",
       "       ['107.08739048036949', '0.0036287390923892987', '160'],\n",
       "       ['106.85517080606857', '0.003482685137685438', '180'],\n",
       "       ['106.26692086747434', '0.003134563324898405', '240'],\n",
       "       ['106.96792714037097', '0.0035220897350484665', '170'],\n",
       "       ['106.1586970514324', '0.0030863432495965622', '250']],\n",
       "      dtype='<U21')"
      ]
     },
     "execution_count": 5,
     "metadata": {},
     "output_type": "execute_result"
    }
   ],
   "source": [
    "arr=np.char.replace(np.array(m), 'K_IvsV_resistencia.txt', '' )\n",
    "arr02=np.char.replace(arr, './', '')\n",
    "arr02"
   ]
  },
  {
   "cell_type": "code",
   "execution_count": 6,
   "id": "4fd5529a",
   "metadata": {},
   "outputs": [
    {
     "data": {
      "text/plain": [
       "array([[1.07432107e+02, 4.31672360e-03, 1.30000000e+02],\n",
       "       [1.06650539e+02, 3.32332194e-03, 2.00000000e+02],\n",
       "       [1.06363171e+02, 3.17615424e-03, 2.30000000e+02],\n",
       "       [1.06132493e+02, 3.11206235e-03, 2.60000000e+02],\n",
       "       [1.07212655e+02, 3.73176966e-03, 1.50000000e+02],\n",
       "       [1.06025059e+02, 3.07666998e-03, 2.70000000e+02],\n",
       "       [1.07656511e+02, 4.25786466e-03, 1.20000000e+02],\n",
       "       [1.05848568e+02, 3.02239145e-03, 2.90000000e+02],\n",
       "       [1.08047464e+02, 4.88573081e-03, 9.20000000e+01],\n",
       "       [1.05724220e+02, 3.05850746e-03, 3.00000000e+02],\n",
       "       [1.07866731e+02, 4.34481043e-03, 1.10000000e+02],\n",
       "       [1.06453584e+02, 3.23385307e-03, 2.20000000e+02],\n",
       "       [1.06692840e+02, 3.42927651e-03, 1.90000000e+02],\n",
       "       [1.05933564e+02, 3.09036582e-03, 2.80000000e+02],\n",
       "       [1.07362617e+02, 3.85282017e-03, 1.40000000e+02],\n",
       "       [1.06540747e+02, 3.26305553e-03, 2.10000000e+02],\n",
       "       [1.07087390e+02, 3.62873909e-03, 1.60000000e+02],\n",
       "       [1.06855171e+02, 3.48268514e-03, 1.80000000e+02],\n",
       "       [1.06266921e+02, 3.13456332e-03, 2.40000000e+02],\n",
       "       [1.06967927e+02, 3.52208974e-03, 1.70000000e+02],\n",
       "       [1.06158697e+02, 3.08634325e-03, 2.50000000e+02]])"
      ]
     },
     "execution_count": 6,
     "metadata": {},
     "output_type": "execute_result"
    }
   ],
   "source": [
    "dl=arr02.astype(float)\n",
    "dl"
   ]
  },
  {
   "cell_type": "code",
   "execution_count": 7,
   "id": "8f2aa0e1",
   "metadata": {},
   "outputs": [
    {
     "data": {
      "text/plain": [
       "array([ 92., 110., 120., 130., 140., 150., 160., 170., 180., 190., 200.,\n",
       "       210., 220., 230., 240., 250., 260., 270., 280., 290., 300.])"
      ]
     },
     "execution_count": 7,
     "metadata": {},
     "output_type": "execute_result"
    }
   ],
   "source": [
    "np.sort(dl[:, 2])"
   ]
  },
  {
   "cell_type": "code",
   "execution_count": 15,
   "id": "559e8285",
   "metadata": {},
   "outputs": [
    {
     "data": {
      "image/png": "[encoded data removed]",
      "text/plain": [
       "<Figure size 432x288 with 1 Axes>"
      ]
     },
     "metadata": {
      "needs_background": "light"
     },
     "output_type": "display_data"
    }
   ],
   "source": [
    "plt.figure('01')\n",
    "plt.title('Resistência')\n",
    "# plt.scatter(dl[:, 0], dl[:, 2])\n",
    "plt.xlabel('Resistência (Ohm)')\n",
    "plt.ylabel('Temperatura (K)')\n",
    "plt.errorbar(dl[:, 0], dl[:, 2], xerr=dl[:, 1], fmt='o', color='r')\n",
    "plt.savefig('line_IvsV-resistencia.jpg', dpi=300)\n",
    "plt.show()\n"
   ]
  },
  {
   "cell_type": "code",
   "execution_count": 11,
   "id": "cfd0d232",
   "metadata": {},
   "outputs": [],
   "source": [
    "import dataframe_image as dfi\n",
    "import pandas as pd"
   ]
  },
  {
   "cell_type": "code",
   "execution_count": 13,
   "id": "697965b2",
   "metadata": {
    "scrolled": true
   },
   "outputs": [
    {
     "data": {
      "text/html": [
       "<div>\n",
       "<style scoped>\n",
       "    .dataframe tbody tr th:only-of-type {\n",
       "        vertical-align: middle;\n",
       "    }\n",
       "\n",
       "    .dataframe tbody tr th {\n",
       "        vertical-align: top;\n",
       "    }\n",
       "\n",
       "    .dataframe thead th {\n",
       "        text-align: right;\n",
       "    }\n",
       "</style>\n",
       "<table border=\"1\" class=\"dataframe\">\n",
       "  <thead>\n",
       "    <tr style=\"text-align: right;\">\n",
       "      <th></th>\n",
       "      <th>Resistência (Ohm)</th>\n",
       "      <th>Err_Res(Ohm)</th>\n",
       "      <th>Temperatura (K)</th>\n",
       "    </tr>\n",
       "  </thead>\n",
       "  <tbody>\n",
       "    <tr>\n",
       "      <th>0</th>\n",
       "      <td>107.432107</td>\n",
       "      <td>0.004317</td>\n",
       "      <td>130.0</td>\n",
       "    </tr>\n",
       "    <tr>\n",
       "      <th>1</th>\n",
       "      <td>106.650539</td>\n",
       "      <td>0.003323</td>\n",
       "      <td>200.0</td>\n",
       "    </tr>\n",
       "    <tr>\n",
       "      <th>2</th>\n",
       "      <td>106.363171</td>\n",
       "      <td>0.003176</td>\n",
       "      <td>230.0</td>\n",
       "    </tr>\n",
       "    <tr>\n",
       "      <th>3</th>\n",
       "      <td>106.132493</td>\n",
       "      <td>0.003112</td>\n",
       "      <td>260.0</td>\n",
       "    </tr>\n",
       "    <tr>\n",
       "      <th>4</th>\n",
       "      <td>107.212655</td>\n",
       "      <td>0.003732</td>\n",
       "      <td>150.0</td>\n",
       "    </tr>\n",
       "    <tr>\n",
       "      <th>5</th>\n",
       "      <td>106.025059</td>\n",
       "      <td>0.003077</td>\n",
       "      <td>270.0</td>\n",
       "    </tr>\n",
       "    <tr>\n",
       "      <th>6</th>\n",
       "      <td>107.656511</td>\n",
       "      <td>0.004258</td>\n",
       "      <td>120.0</td>\n",
       "    </tr>\n",
       "    <tr>\n",
       "      <th>7</th>\n",
       "      <td>105.848568</td>\n",
       "      <td>0.003022</td>\n",
       "      <td>290.0</td>\n",
       "    </tr>\n",
       "    <tr>\n",
       "      <th>8</th>\n",
       "      <td>108.047464</td>\n",
       "      <td>0.004886</td>\n",
       "      <td>92.0</td>\n",
       "    </tr>\n",
       "    <tr>\n",
       "      <th>9</th>\n",
       "      <td>105.724220</td>\n",
       "      <td>0.003059</td>\n",
       "      <td>300.0</td>\n",
       "    </tr>\n",
       "    <tr>\n",
       "      <th>10</th>\n",
       "      <td>107.866731</td>\n",
       "      <td>0.004345</td>\n",
       "      <td>110.0</td>\n",
       "    </tr>\n",
       "    <tr>\n",
       "      <th>11</th>\n",
       "      <td>106.453584</td>\n",
       "      <td>0.003234</td>\n",
       "      <td>220.0</td>\n",
       "    </tr>\n",
       "    <tr>\n",
       "      <th>12</th>\n",
       "      <td>106.692840</td>\n",
       "      <td>0.003429</td>\n",
       "      <td>190.0</td>\n",
       "    </tr>\n",
       "    <tr>\n",
       "      <th>13</th>\n",
       "      <td>105.933564</td>\n",
       "      <td>0.003090</td>\n",
       "      <td>280.0</td>\n",
       "    </tr>\n",
       "    <tr>\n",
       "      <th>14</th>\n",
       "      <td>107.362617</td>\n",
       "      <td>0.003853</td>\n",
       "      <td>140.0</td>\n",
       "    </tr>\n",
       "    <tr>\n",
       "      <th>15</th>\n",
       "      <td>106.540747</td>\n",
       "      <td>0.003263</td>\n",
       "      <td>210.0</td>\n",
       "    </tr>\n",
       "    <tr>\n",
       "      <th>16</th>\n",
       "      <td>107.087390</td>\n",
       "      <td>0.003629</td>\n",
       "      <td>160.0</td>\n",
       "    </tr>\n",
       "    <tr>\n",
       "      <th>17</th>\n",
       "      <td>106.855171</td>\n",
       "      <td>0.003483</td>\n",
       "      <td>180.0</td>\n",
       "    </tr>\n",
       "    <tr>\n",
       "      <th>18</th>\n",
       "      <td>106.266921</td>\n",
       "      <td>0.003135</td>\n",
       "      <td>240.0</td>\n",
       "    </tr>\n",
       "    <tr>\n",
       "      <th>19</th>\n",
       "      <td>106.967927</td>\n",
       "      <td>0.003522</td>\n",
       "      <td>170.0</td>\n",
       "    </tr>\n",
       "    <tr>\n",
       "      <th>20</th>\n",
       "      <td>106.158697</td>\n",
       "      <td>0.003086</td>\n",
       "      <td>250.0</td>\n",
       "    </tr>\n",
       "  </tbody>\n",
       "</table>\n",
       "</div>"
      ],
      "text/plain": [
       "    Resistência (Ohm)  Err_Res(Ohm)  Temperatura (K)\n",
       "0          107.432107      0.004317            130.0\n",
       "1          106.650539      0.003323            200.0\n",
       "2          106.363171      0.003176            230.0\n",
       "3          106.132493      0.003112            260.0\n",
       "4          107.212655      0.003732            150.0\n",
       "5          106.025059      0.003077            270.0\n",
       "6          107.656511      0.004258            120.0\n",
       "7          105.848568      0.003022            290.0\n",
       "8          108.047464      0.004886             92.0\n",
       "9          105.724220      0.003059            300.0\n",
       "10         107.866731      0.004345            110.0\n",
       "11         106.453584      0.003234            220.0\n",
       "12         106.692840      0.003429            190.0\n",
       "13         105.933564      0.003090            280.0\n",
       "14         107.362617      0.003853            140.0\n",
       "15         106.540747      0.003263            210.0\n",
       "16         107.087390      0.003629            160.0\n",
       "17         106.855171      0.003483            180.0\n",
       "18         106.266921      0.003135            240.0\n",
       "19         106.967927      0.003522            170.0\n",
       "20         106.158697      0.003086            250.0"
      ]
     },
     "execution_count": 13,
     "metadata": {},
     "output_type": "execute_result"
    }
   ],
   "source": [
    "df = pd.DataFrame(dl, columns= ['Resistência (Ohm)', 'Err_Res(Ohm)', 'Temperatura (K)'])\n",
    "df"
   ]
  },
  {
   "cell_type": "code",
   "execution_count": 14,
   "id": "1b051697",
   "metadata": {},
   "outputs": [
    {
     "name": "stderr",
     "output_type": "stream",
     "text": [
      "[0623/005846.056381:WARNING:sandbox_linux.cc(376)] InitializeSandbox() called with multiple threads in process gpu-process.\n",
      "[0623/005846.069184:WARNING:bluez_dbus_manager.cc(247)] Floss manager not present, cannot set Floss enable/disable.\n",
      "[0623/005846.535312:INFO:headless_shell.cc(660)] Written to file /tmp/tmpkpt5bvk_/temp.png.\n"
     ]
    }
   ],
   "source": [
    "df.dfi.export('df.png')"
   ]
  }
 ],
 "metadata": {
  "kernelspec": {
   "display_name": "Python 3 (ipykernel)",
   "language": "python",
   "name": "python3"
  },
  "language_info": {
   "codemirror_mode": {
    "name": "ipython",
    "version": 3
   },
   "file_extension": ".py",
   "mimetype": "text/x-python",
   "name": "python",
   "nbconvert_exporter": "python",
   "pygments_lexer": "ipython3",
   "version": "3.9.7"
  }
 },
 "nbformat": 4,
 "nbformat_minor": 5
}
