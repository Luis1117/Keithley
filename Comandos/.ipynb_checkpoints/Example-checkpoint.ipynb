{
 "cells": [
  {
   "cell_type": "code",
   "execution_count": 1,
   "id": "31e1c953",
   "metadata": {},
   "outputs": [
    {
     "name": "stdout",
     "output_type": "stream",
     "text": [
      "[<serial.tools.list_ports_linux.SysFS object at 0x7ffb7061d9d0>]\n"
     ]
    }
   ],
   "source": [
    "import serial.tools.list_ports\n",
    "print(list(serial.tools.list_ports.comports()))"
   ]
  },
  {
   "cell_type": "code",
   "execution_count": 3,
   "id": "e2e060d6",
   "metadata": {},
   "outputs": [],
   "source": [
    "import serial\n",
    "ser = serial.Serial(\"/dev/ttyUSB0\", 9600, timeout= 2, parity=serial.PARITY_NONE, bytesize=8, \n",
    "                   stopbits=1, xonxoff=0)\n",
    "\n",
    "ser.write(':SOUR:FUNC VOLT \\r'.encode()) # Fonte de voltagem (V)\n",
    "ser.write(':SOUR:VOLT 10 \\r'.encode()) # Nivel de voltagem, 10V\n",
    "ser.write(':SENS:FUNC “CURR” \\r'.encode()) # Função medida corrente (A)\n",
    "ser.write(':SENS:CURR:RANG 10E-6 \\r'.encode()) #ngo de amperes 10μA\n",
    "ser.write(':DISP:DIG 5 \\r'.encode())#Prsenta 5 digitos na tela\n",
    "ser.write(':OUTP ON \\r'.encode()) #Lar a saída\n",
    "ser.write(':READ? \\r'.encode()) #cione e adquira leitura.\n",
    "corrente = ser.read()\n",
    "ser.write(':OUTP OFF \\r'.encode()) # Desligar a saida\n",
    "\n",
    "ser.close() "
   ]
  }
 ],
 "metadata": {
  "kernelspec": {
   "display_name": "Python 3",
   "language": "python",
   "name": "python3"
  },
  "language_info": {
   "codemirror_mode": {
    "name": "ipython",
    "version": 3
   },
   "file_extension": ".py",
   "mimetype": "text/x-python",
   "name": "python",
   "nbconvert_exporter": "python",
   "pygments_lexer": "ipython3",
   "version": "3.8.8"
  }
 },
 "nbformat": 4,
 "nbformat_minor": 5
}
