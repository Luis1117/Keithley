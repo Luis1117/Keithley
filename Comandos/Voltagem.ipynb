{
 "cells": [
  {
   "cell_type": "code",
   "execution_count": 1,
   "id": "ea6bab89",
   "metadata": {},
   "outputs": [
    {
     "name": "stdout",
     "output_type": "stream",
     "text": [
      "[]\n"
     ]
    }
   ],
   "source": [
    "import serial.tools.list_ports\n",
    "print(list(serial.tools.list_ports.comports()))"
   ]
  },
  {
   "cell_type": "code",
   "execution_count": 2,
   "id": "efe419ff",
   "metadata": {},
   "outputs": [
    {
     "ename": "SyntaxError",
     "evalue": "invalid syntax (<ipython-input-2-4c4bfb5de602>, line 5)",
     "output_type": "error",
     "traceback": [
      "\u001b[0;36m  File \u001b[0;32m\"<ipython-input-2-4c4bfb5de602>\"\u001b[0;36m, line \u001b[0;32m5\u001b[0m\n\u001b[0;31m    ser = serial.Serial((\"/dev/ttyUSB0\", 9600, timeout= 2, parity=serial.PARITY_NONE, bytesize=8,\u001b[0m\n\u001b[0m                                                      ^\u001b[0m\n\u001b[0;31mSyntaxError\u001b[0m\u001b[0;31m:\u001b[0m invalid syntax\n"
     ]
    }
   ],
   "source": [
    "import serial\n",
    "\n",
    "# Barrer voltagem\n",
    "\n",
    "ser = serial.Serial((\"/dev/ttyUSB0\", 9600, timeout= 2, parity=serial.PARITY_NONE, bytesize=8, \n",
    "                   stopbits=1, xonxoff=0))\n",
    "\n",
    "ser.write(':SENS:VOLT:RANG:AUTO on\\r '.encode())\n",
    "\n",
    "ser.close()\n"
   ]
  }
 ],
 "metadata": {
  "kernelspec": {
   "display_name": "Python 3",
   "language": "python",
   "name": "python3"
  },
  "language_info": {
   "codemirror_mode": {
    "name": "ipython",
    "version": 3
   },
   "file_extension": ".py",
   "mimetype": "text/x-python",
   "name": "python",
   "nbconvert_exporter": "python",
   "pygments_lexer": "ipython3",
   "version": "3.8.8"
  }
 },
 "nbformat": 4,
 "nbformat_minor": 5
}
