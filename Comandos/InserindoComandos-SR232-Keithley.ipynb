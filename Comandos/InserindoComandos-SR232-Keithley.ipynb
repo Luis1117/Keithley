{
 "cells": [
  {
   "cell_type": "code",
   "execution_count": 1,
   "id": "a845e6e4",
   "metadata": {},
   "outputs": [
    {
     "name": "stdout",
     "output_type": "stream",
     "text": [
      "[<serial.tools.list_ports_linux.SysFS object at 0x7feed00dbbb0>]\n"
     ]
    }
   ],
   "source": [
    "# Importamos biblioteca:\n",
    "import serial.tools.list_ports\n",
    "\n",
    "print(list(serial.tools.list_ports.comports())) # verifica as portas USB usadas\n"
   ]
  },
  {
   "cell_type": "code",
   "execution_count": 2,
   "id": "60b4ab70",
   "metadata": {},
   "outputs": [],
   "source": [
    "import serial\n",
    "\n",
    "# Barredura de corrente\n",
    "\n",
    "ser = serial.Serial(\"/dev/ttyUSB0\", 9600, timeout= 2, parity=serial.PARITY_NONE, bytesize=8, \n",
    "                   stopbits=1, xonxoff=0) # open serial port, os valores aqui(modo remoto) deben coincir com os valores no keithley (modo local)\n",
    "\n",
    "# Escribimos linhas a ser leidas pelo Keithley;\n",
    "\n",
    "ser.write(':SENS:CURR:RANG:AUTO on\\r '.encode())\n",
    "\n",
    "ser.close()"
   ]
  }
 ],
 "metadata": {
  "kernelspec": {
   "display_name": "Python 3",
   "language": "python",
   "name": "python3"
  },
  "language_info": {
   "codemirror_mode": {
    "name": "ipython",
    "version": 3
   },
   "file_extension": ".py",
   "mimetype": "text/x-python",
   "name": "python",
   "nbconvert_exporter": "python",
   "pygments_lexer": "ipython3",
   "version": "3.8.8"
  }
 },
 "nbformat": 4,
 "nbformat_minor": 5
}
