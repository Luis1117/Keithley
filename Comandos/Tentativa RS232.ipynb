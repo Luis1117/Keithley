{
 "cells": [
  {
   "cell_type": "code",
   "execution_count": 25,
   "id": "ee656a1b",
   "metadata": {
    "scrolled": true
   },
   "outputs": [],
   "source": [
    "import serial\n",
    "\n",
    "ser = serial.Serial('/dev/ttyUSB0', 9600, timeout = 2, parity=serial.PARITY_NONE, bytesize=8,  stopbits=1, xonxoff=0, )  # open serial port\n",
    "\n",
    "ser.write(':SENSe:RESistance:RANGe:AUTO ON\\r'.encode())\n",
    "\n",
    "\n",
    "ser.close()\n",
    "\n",
    "\n",
    "\n",
    "\n"
   ]
  }
 ],
 "metadata": {
  "kernelspec": {
   "display_name": "Python 3",
   "language": "python",
   "name": "python3"
  },
  "language_info": {
   "codemirror_mode": {
    "name": "ipython",
    "version": 3
   },
   "file_extension": ".py",
   "mimetype": "text/x-python",
   "name": "python",
   "nbconvert_exporter": "python",
   "pygments_lexer": "ipython3",
   "version": "3.8.8"
  }
 },
 "nbformat": 4,
 "nbformat_minor": 5
}
